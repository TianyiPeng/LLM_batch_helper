{
  "cells": [
    {
      "cell_type": "markdown",
      "metadata": {},
      "source": [
        "# LLM Batch Helper: Performance Comparison Tutorial\n",
        "\n",
        "This notebook demonstrates the dramatic performance improvements you get when using LLM Batch Helper compared to naive sequential API calls.\n",
        "\n",
        "## What We'll Demonstrate\n",
        "\n",
        "1. **Generate 5K Test Prompts** - Create a large dataset for testing\n",
        "2. **Naive Approach** - Show how slow sequential API calls are with time estimation\n",
        "3. **Smart Start** - Begin with 10 examples to validate output quality\n",
        "4. **Medium Scale** - Process 2.5K prompts with 100 concurrent requests\n",
        "5. **Large Scale with Caching** - Process 5K prompts with 500 concurrent requests, leveraging cache\n",
        "\n",
        "## Key Benefits We'll See\n",
        "\n",
        "- **🚀 Speed**: 10-100x faster than sequential processing\n",
        "- **💾 Caching**: Resume interrupted work without losing progress\n",
        "- **⚙️ Tunable Concurrency**: Adjust for rate limits and optimal performance\n",
        "- **🛡️ Reliability**: Built-in retry logic and error handling\n",
        "\n",
        "Let's get started! 🎯\n"
      ]
    },
    {
      "cell_type": "markdown",
      "metadata": {},
      "source": [
        "## Setup and Imports\n"
      ]
    },
    {
      "cell_type": "code",
      "execution_count": null,
      "metadata": {},
      "outputs": [],
      "source": [
        "# Install required packages if not already installed\n",
        "%pip install llm_batch_helper openai tqdm\n"
      ]
    },
    {
      "cell_type": "code",
      "execution_count": 3,
      "metadata": {},
      "outputs": [
        {
          "name": "stdout",
          "output_type": "stream",
          "text": [
            "📦 All packages imported successfully!\n"
          ]
        }
      ],
      "source": [
        "import os\n",
        "import time\n",
        "import json\n",
        "from datetime import datetime\n",
        "from tqdm import tqdm\n",
        "import openai\n",
        "\n",
        "# Import LLM Batch Helper\n",
        "from llm_batch_helper import LLMConfig, process_prompts_batch\n",
        "\n",
        "print(\"📦 All packages imported successfully!\")\n"
      ]
    },
    {
      "cell_type": "code",
      "execution_count": null,
      "metadata": {},
      "outputs": [
        {
          "name": "stdout",
          "output_type": "stream",
          "text": [
            "✅ OpenAI API key is configured!\n",
            "🚀 Ready to start the performance comparison!\n"
          ]
        }
      ],
      "source": [
        "# Check if OpenAI API key is set\n",
        "import os\n",
        "# set your OPENAI_API_KEY here\n",
        "#os.environ[\"OPENAI_API_KEY\"] = \"\"\n",
        "\n",
        "if not os.environ.get(\"OPENAI_API_KEY\"):\n",
        "    print(\"⚠️  WARNING: OPENAI_API_KEY not found!\")\n",
        "    print(\"Please set your API key: export OPENAI_API_KEY='your-api-key'\")\n",
        "    print(\"Or add it to a .env file in your project directory\")\n",
        "else:\n",
        "    print(\"✅ OpenAI API key is configured!\")\n",
        "    print(\"🚀 Ready to start the performance comparison!\")\n"
      ]
    },
    {
      "cell_type": "markdown",
      "metadata": {},
      "source": [
        "## Step 1: Generate 5K Test Prompts\n",
        "\n",
        "First, let's create a large dataset of simple test prompts to benchmark performance.\n"
      ]
    },
    {
      "cell_type": "code",
      "execution_count": 12,
      "metadata": {},
      "outputs": [
        {
          "name": "stdout",
          "output_type": "stream",
          "text": [
            "📝 Generating test prompts...\n",
            "✅ Generated 5,000 test prompts\n",
            "\n",
            "📋 Sample prompts:\n",
            "  1. test 1: just respond 1\n",
            "  2. test 2: just respond 2\n",
            "  3. test 3: just respond 3\n",
            "  4. test 4: just respond 4\n",
            "  5. test 5: just respond 5\n",
            "  ...\n",
            "  4998. test 4998: just respond 4998\n",
            "  4999. test 4999: just respond 4999\n",
            "  5000. test 5000: just respond 5000\n"
          ]
        }
      ],
      "source": [
        "# Generate 5K naive test prompts\n",
        "def generate_test_prompts(count=5000):\n",
        "    \"\"\"Generate simple test prompts for performance testing.\"\"\"\n",
        "    prompts = []\n",
        "    for i in range(1, count + 1):\n",
        "        prompts.append(f\"test {i}: just respond {i}\")\n",
        "    return prompts\n",
        "\n",
        "# Generate the prompts\n",
        "print(\"📝 Generating test prompts...\")\n",
        "test_prompts = generate_test_prompts(5000)\n",
        "\n",
        "print(f\"✅ Generated {len(test_prompts):,} test prompts\")\n",
        "print(\"\\n📋 Sample prompts:\")\n",
        "for i in range(5):\n",
        "    print(f\"  {i+1}. {test_prompts[i]}\")\n",
        "print(\"  ...\")\n",
        "for i in range(-3, 0):\n",
        "    print(f\"  {len(test_prompts)+i+1}. {test_prompts[i]}\")\n"
      ]
    },
    {
      "cell_type": "markdown",
      "metadata": {},
      "source": [
        "## Step 2: Naive Approach - Sequential API Calls\n",
        "\n",
        "Let's see how long it would take to process these prompts using the traditional sequential approach with a simple for loop.\n"
      ]
    },
    {
      "cell_type": "code",
      "execution_count": 21,
      "metadata": {},
      "outputs": [
        {
          "name": "stdout",
          "output_type": "stream",
          "text": [
            "⏱️  Testing naive approach with 3 sample prompts...\n"
          ]
        },
        {
          "name": "stderr",
          "output_type": "stream",
          "text": [
            "Naive API calls:  33%|███▎      | 1/3 [00:00<00:00,  2.81it/s]"
          ]
        },
        {
          "name": "stdout",
          "output_type": "stream",
          "text": [
            "✅ Sample 1: 1\n"
          ]
        },
        {
          "name": "stderr",
          "output_type": "stream",
          "text": [
            "Naive API calls:  67%|██████▋   | 2/3 [00:00<00:00,  2.74it/s]"
          ]
        },
        {
          "name": "stdout",
          "output_type": "stream",
          "text": [
            "✅ Sample 2: 2\n"
          ]
        },
        {
          "name": "stderr",
          "output_type": "stream",
          "text": [
            "Naive API calls: 100%|██████████| 3/3 [00:01<00:00,  2.17it/s]"
          ]
        },
        {
          "name": "stdout",
          "output_type": "stream",
          "text": [
            "✅ Sample 3: 3\n",
            "\n",
            "📊 Naive Approach Performance:\n",
            "   ⏱️  Average time per request: 0.46 seconds\n",
            "   📝 Sample size: 3 prompts\n",
            "   🕐 Time for sample: 1.39 seconds\n",
            "\n",
            "🚨 Estimated time for 5,000 prompts:\n",
            "   ⏳ Total: 2310 seconds\n",
            "   ⏳ That's 38.5 minutes\n",
            "   ⏳ Or 0.6 hours!\n",
            " Sometime, one API call can take 10-30 seconds\n",
            "depend on the prompt lenght, the response length, and the model you are using.\n",
            " In that case, the total time can be 90.2 hours for finishing 5000 prompts.\n"
          ]
        },
        {
          "name": "stderr",
          "output_type": "stream",
          "text": [
            "\n"
          ]
        }
      ],
      "source": [
        "def naive_chat_completion(prompt, model=\"gpt-4o-mini\"):\n",
        "    \"\"\"Naive function that makes a single ChatGPT API call.\"\"\"\n",
        "    client = openai.OpenAI()\n",
        "    response = client.chat.completions.create(\n",
        "        model=model,\n",
        "        messages=[\n",
        "            {\"role\": \"user\", \"content\": prompt}\n",
        "        ],\n",
        "        max_tokens=50,\n",
        "        temperature=1.0\n",
        "    )\n",
        "    return response.choices[0].message.content\n",
        "\n",
        "def estimate_naive_approach_time(prompts, sample_size=5):\n",
        "    \"\"\"Estimate how long the naive approach would take by timing a small sample.\"\"\"\n",
        "    print(f\"⏱️  Testing naive approach with {sample_size} sample prompts...\")\n",
        "    \n",
        "    start_time = time.time()\n",
        "    results = []\n",
        "    \n",
        "    for i, prompt in enumerate(tqdm(prompts[:sample_size], desc=\"Naive API calls\")):\n",
        "        try:\n",
        "            response = naive_chat_completion(prompt)\n",
        "            results.append({\"prompt\": prompt, \"response\": response})\n",
        "            print(f\"✅ Sample {i+1}: {response}\")\n",
        "        except Exception as e:\n",
        "            print(f\"❌ Error on sample {i+1}: {e}\")\n",
        "            results.append({\"prompt\": prompt, \"error\": str(e)})\n",
        "    \n",
        "    elapsed_time = time.time() - start_time\n",
        "    avg_time_per_request = elapsed_time / sample_size\n",
        "    \n",
        "    # Estimate total time for all prompts\n",
        "    total_estimated_time = avg_time_per_request * len(prompts)\n",
        "    \n",
        "    print(f\"\\n📊 Naive Approach Performance:\")\n",
        "    print(f\"   ⏱️  Average time per request: {avg_time_per_request:.2f} seconds\")\n",
        "    print(f\"   📝 Sample size: {sample_size} prompts\")\n",
        "    print(f\"   🕐 Time for sample: {elapsed_time:.2f} seconds\")\n",
        "    print(f\"\\n🚨 Estimated time for {len(prompts):,} prompts:\")\n",
        "    print(f\"   ⏳ Total: {total_estimated_time:.0f} seconds\")\n",
        "    print(f\"   ⏳ That's {total_estimated_time/60:.1f} minutes\")\n",
        "    print(f\"   ⏳ Or {total_estimated_time/3600:.1f} hours!\")\n",
        "    \n",
        "    print(f\" Sometime, one API call can take 10-30 seconds\")\n",
        "    print(f\"depend on the prompt lenght, the response length, and the model you are using.\")\n",
        "    print(f\" In that case, the total time can be {30 / avg_time_per_request * len(prompts) / 3600:.1f} hours for finishing {len(prompts)} prompts.\")\n",
        "    return results, avg_time_per_request\n",
        "\n",
        "# Run the estimation (only if API key is available)\n",
        "if os.environ.get(\"OPENAI_API_KEY\"):\n",
        "    naive_results, avg_time = estimate_naive_approach_time(test_prompts, sample_size=3)\n",
        "else:\n",
        "    print(\"⚠️  Skipping naive approach test - no API key configured\")\n",
        "    print(\"💡 With typical API response times of 1-3 seconds per request:\")\n",
        "    print(f\"   📊 5,000 prompts × 2 seconds = 10,000 seconds\")\n",
        "    print(f\"   ⏳ That's 2.8 hours of sequential processing!\")\n",
        "\n",
        "naive_estimated_time = avg_time * len(test_prompts)"
      ]
    },
    {
      "cell_type": "markdown",
      "metadata": {},
      "source": [
        "## Step 3: Smart Start - Test with 10 Examples\n",
        "\n",
        "Before processing thousands of prompts, let's start small to validate our approach and check output quality.\n"
      ]
    },
    {
      "cell_type": "code",
      "execution_count": 22,
      "metadata": {},
      "outputs": [
        {
          "name": "stdout",
          "output_type": "stream",
          "text": [
            "⚙️  Configuration created:\n",
            "   🤖 Model: gpt-4o-mini\n",
            "   🌡️  Temperature: 1.0\n",
            "   🔢 Max tokens: 50\n",
            "   🚀 Max concurrent: 10\n",
            "   🔄 Max retries: 3\n"
          ]
        }
      ],
      "source": [
        "# Create configuration for LLM Batch Helper\n",
        "config = LLMConfig(\n",
        "    model_name=\"gpt-4o-mini\",\n",
        "    temperature=1.0,\n",
        "    max_completion_tokens=50,\n",
        "    max_concurrent_requests=10,  # Start conservative\n",
        "    max_retries=3\n",
        ")\n",
        "\n",
        "print(\"⚙️  Configuration created:\")\n",
        "print(f\"   🤖 Model: {config.model_name}\")\n",
        "print(f\"   🌡️  Temperature: {config.temperature}\")\n",
        "print(f\"   🔢 Max tokens: {config.max_completion_tokens}\")\n",
        "print(f\"   🚀 Max concurrent: {config.max_concurrent_requests}\")\n",
        "print(f\"   🔄 Max retries: {config.max_retries}\")\n"
      ]
    },
    {
      "cell_type": "code",
      "execution_count": 23,
      "metadata": {},
      "outputs": [
        {
          "name": "stdout",
          "output_type": "stream",
          "text": [
            "🧪 Testing with first 10 prompts to validate output quality...\n"
          ]
        },
        {
          "name": "stderr",
          "output_type": "stream",
          "text": [
            "Small Scale Test (10 prompts): 100%|██████████| 10/10 [00:00<00:00, 13.67it/s]"
          ]
        },
        {
          "name": "stdout",
          "output_type": "stream",
          "text": [
            "\n",
            "⏱️  Completed in 0.73 seconds\n",
            "📊 Average time per prompt: 0.07 seconds\n",
            "\n",
            "🔍 Validating output quality:\n",
            "✅ [NEW] 1\n",
            "✅ [NEW] 2\n",
            "✅ [NEW] 3\n",
            "✅ [NEW] 4\n",
            "✅ [NEW] 5\n",
            "✅ [NEW] 6\n",
            "✅ [NEW] 7\n",
            "✅ [NEW] 8\n",
            "✅ [NEW] 9\n",
            "✅ [NEW] 10\n",
            "\n",
            "📈 Results: 10 successful (0 cached), 0 failed\n",
            "📊 Success rate: 100.0%\n",
            "🎉 All outputs look good! Ready to scale up.\n"
          ]
        },
        {
          "name": "stderr",
          "output_type": "stream",
          "text": [
            "\n"
          ]
        }
      ],
      "source": [
        "# Test with first 10 prompts to validate output quality\n",
        "print(\"🧪 Testing with first 10 prompts to validate output quality...\")\n",
        "\n",
        "small_test_prompts = test_prompts[:10]\n",
        "\n",
        "start_time = time.time()\n",
        "small_results = process_prompts_batch(\n",
        "    config=config,\n",
        "    provider=\"openai\",\n",
        "    prompts=small_test_prompts,\n",
        "    cache_dir=\"performance_cache\",\n",
        "    desc=\"Small Scale Test (10 prompts)\"\n",
        ")\n",
        "elapsed_time = time.time() - start_time\n",
        "\n",
        "print(f\"\\n⏱️  Completed in {elapsed_time:.2f} seconds\")\n",
        "print(f\"📊 Average time per prompt: {elapsed_time/len(small_test_prompts):.2f} seconds\")\n",
        "\n",
        "# Validate outputs\n",
        "print(\"\\n🔍 Validating output quality:\")\n",
        "successful = 0\n",
        "cached = 0\n",
        "failed = 0\n",
        "\n",
        "for prompt_id, response in small_results.items():\n",
        "    if \"error\" in response:\n",
        "        status = \"❌ [ERROR]\"\n",
        "        print(f\"{status} {prompt_id}: {response['error'][:100]}...\")\n",
        "        failed += 1\n",
        "    elif response.get(\"from_cache\"):\n",
        "        status = \"💾 [CACHE]\"\n",
        "        print(f\"{status} {response['response_text']}\")\n",
        "        cached += 1\n",
        "        successful += 1\n",
        "    else:\n",
        "        status = \"✅ [NEW]\"\n",
        "        print(f\"{status} {response['response_text']}\")\n",
        "        successful += 1\n",
        "\n",
        "print(f\"\\n📈 Results: {successful} successful ({cached} cached), {failed} failed\")\n",
        "print(f\"📊 Success rate: {successful/len(small_test_prompts)*100:.1f}%\")\n",
        "\n",
        "if successful == len(small_test_prompts):\n",
        "    print(\"🎉 All outputs look good! Ready to scale up.\")\n",
        "else:\n",
        "    print(\"⚠️  Some outputs failed. You might want to adjust the configuration.\")\n"
      ]
    },
    {
      "cell_type": "markdown",
      "metadata": {},
      "source": [
        "## Step 4: Medium Scale - 2.5K Examples with 100 Concurrent Requests\n",
        "\n",
        "Now let's scale up to 2,500 prompts with higher concurrency to see the real performance benefits.\n"
      ]
    },
    {
      "cell_type": "code",
      "execution_count": 24,
      "metadata": {},
      "outputs": [
        {
          "name": "stdout",
          "output_type": "stream",
          "text": [
            "🚀 Processing 2,500 prompts with 100 concurrent requests...\n",
            "💡 This would take ~0.6 hours with naive approach!\n"
          ]
        },
        {
          "name": "stderr",
          "output_type": "stream",
          "text": [
            "Medium Scale (2,500 prompts): 100%|██████████| 2500/2500 [00:37<00:00, 65.86it/s] "
          ]
        },
        {
          "name": "stdout",
          "output_type": "stream",
          "text": [
            "\n",
            "🎯 Medium Scale Results:\n",
            "   ⏱️  Total time: 38.0 seconds (0.6 minutes)\n",
            "   📊 Average time per prompt: 0.015 seconds\n",
            "   ✅ Successful: 2,500\n",
            "   💾 From cache: 10\n",
            "   ❌ Failed: 0\n",
            "   📈 Success rate: 100.0%\n",
            "\n",
            "🚀 Performance Improvement:\n",
            "   📊 Naive approach would take: 38.5 minutes\n",
            "   ⚡ Our approach took: 0.6 minutes\n",
            "   🎯 Speedup: 60.8x faster!\n"
          ]
        },
        {
          "name": "stderr",
          "output_type": "stream",
          "text": [
            "\n"
          ]
        }
      ],
      "source": [
        "# Update configuration for medium scale processing\n",
        "medium_config = LLMConfig(\n",
        "    model_name=\"gpt-4o-mini\",\n",
        "    temperature=1.0,\n",
        "    max_completion_tokens=50,\n",
        "    max_concurrent_requests=100,  # Increase concurrency\n",
        "    max_retries=3\n",
        ")\n",
        "\n",
        "# Process 2.5K prompts\n",
        "medium_prompts = test_prompts[:2500]\n",
        "\n",
        "print(f\"🚀 Processing {len(medium_prompts):,} prompts with {medium_config.max_concurrent_requests} concurrent requests...\")\n",
        "print(f\"💡 This would take ~{naive_estimated_time / 3600:.1f} hours with naive approach!\")\n",
        "\n",
        "start_time = time.time()\n",
        "medium_results = process_prompts_batch(\n",
        "    config=medium_config,\n",
        "    provider=\"openai\",\n",
        "    prompts=medium_prompts,\n",
        "    cache_dir=\"performance_cache\",\n",
        "    desc=f\"Medium Scale ({len(medium_prompts):,} prompts)\"\n",
        ")\n",
        "elapsed_time = time.time() - start_time\n",
        "\n",
        "# Analyze results\n",
        "successful = sum(1 for r in medium_results.values() if \"error\" not in r)\n",
        "cached = sum(1 for r in medium_results.values() if r.get(\"from_cache\", False))\n",
        "failed = len(medium_results) - successful\n",
        "\n",
        "print(f\"\\n🎯 Medium Scale Results:\")\n",
        "print(f\"   ⏱️  Total time: {elapsed_time:.1f} seconds ({elapsed_time/60:.1f} minutes)\")\n",
        "print(f\"   📊 Average time per prompt: {elapsed_time/len(medium_prompts):.3f} seconds\")\n",
        "print(f\"   ✅ Successful: {successful:,}\")\n",
        "print(f\"   💾 From cache: {cached:,}\")\n",
        "print(f\"   ❌ Failed: {failed:,}\")\n",
        "print(f\"   📈 Success rate: {successful/len(medium_prompts)*100:.1f}%\")\n",
        "\n",
        "# Calculate speedup vs naive approach\n",
        "speedup = naive_estimated_time / elapsed_time\n",
        "print(f\"\\n🚀 Performance Improvement:\")\n",
        "print(f\"   📊 Naive approach would take: {naive_estimated_time/60:.1f} minutes\")\n",
        "print(f\"   ⚡ Our approach took: {elapsed_time/60:.1f} minutes\")\n",
        "print(f\"   🎯 Speedup: {speedup:.1f}x faster!\")\n"
      ]
    },
    {
      "cell_type": "markdown",
      "metadata": {},
      "source": [
        "## Step 5: Large Scale with Caching - 5K Examples\n",
        "\n",
        "Now for the grand finale! Let's process all 5K prompts with even higher concurrency. The first 2.5K should be served from cache, demonstrating the caching feature.\n"
      ]
    },
    {
      "cell_type": "code",
      "execution_count": 25,
      "metadata": {},
      "outputs": [
        {
          "name": "stdout",
          "output_type": "stream",
          "text": [
            "🎯 Processing ALL 5,000 prompts!\n",
            "💾 First 2,500 should be served from cache\n",
            "🚀 Only 2,500 new prompts need processing\n",
            "⚡ Using 500 concurrent requests\n"
          ]
        },
        {
          "name": "stderr",
          "output_type": "stream",
          "text": [
            "Large Scale (5,000 prompts): 100%|██████████| 5000/5000 [00:36<00:00, 137.15it/s]"
          ]
        },
        {
          "name": "stdout",
          "output_type": "stream",
          "text": [
            "\n",
            "🏆 FINAL RESULTS - Large Scale Processing:\n",
            "============================================================\n",
            "   📊 Total prompts: 5,000\n",
            "   ⏱️  Total time: 36.5 seconds (0.6 minutes)\n",
            "   📈 Average time per prompt: 0.0073 seconds\n",
            "\n",
            "📋 Response Breakdown:\n",
            "   ✅ Successful: 5,000 (100.0%)\n",
            "   💾 From cache: 2,500 (50.0%)\n",
            "   🆕 Newly generated: 2,500 (50.0%)\n",
            "   ❌ Failed: 0 (0.0%)\n",
            "\n",
            "🚀 PERFORMANCE COMPARISON:\n",
            "============================================================\n",
            "   📊 Naive sequential approach: ~0.6 hours\n",
            "   ⚡ LLM Batch Helper: 0.6 minutes\n",
            "   🎯 SPEEDUP: 63x FASTER!\n",
            "   💰 Time saved: 0.6 hours\n",
            "\n",
            "💾 CACHING EFFECTIVENESS:\n",
            "============================================================\n",
            "   📊 Cache hit rate: 50.0%\n",
            "   ⚡ Only processed 2,500 new prompts out of 5,000\n",
            "   💡 This means you can interrupt and resume without losing work!\n"
          ]
        },
        {
          "name": "stderr",
          "output_type": "stream",
          "text": [
            "\n"
          ]
        }
      ],
      "source": [
        "# Configuration for large scale processing\n",
        "large_config = LLMConfig(\n",
        "    model_name=\"gpt-4o-mini\",\n",
        "    temperature=1.0,\n",
        "    max_completion_tokens=50,\n",
        "    max_concurrent_requests=500,  # Much higher concurrency!\n",
        "    max_retries=3\n",
        ")\n",
        "\n",
        "# Process all 5K prompts\n",
        "all_prompts = test_prompts  # All 5,000 prompts\n",
        "\n",
        "print(f\"🎯 Processing ALL {len(all_prompts):,} prompts!\")\n",
        "print(f\"💾 First {len(medium_prompts):,} should be served from cache\")\n",
        "print(f\"🚀 Only {len(all_prompts) - len(medium_prompts):,} new prompts need processing\")\n",
        "print(f\"⚡ Using {large_config.max_concurrent_requests} concurrent requests\")\n",
        "\n",
        "start_time = time.time()\n",
        "large_results = process_prompts_batch(\n",
        "    config=large_config,\n",
        "    provider=\"openai\",\n",
        "    prompts=all_prompts,\n",
        "    cache_dir=\"performance_cache\",\n",
        "    desc=f\"Large Scale ({len(all_prompts):,} prompts)\"\n",
        ")\n",
        "elapsed_time = time.time() - start_time\n",
        "\n",
        "# Comprehensive analysis\n",
        "successful = sum(1 for r in large_results.values() if \"error\" not in r)\n",
        "cached = sum(1 for r in large_results.values() if r.get(\"from_cache\", False))\n",
        "generated = successful - cached\n",
        "failed = len(large_results) - successful\n",
        "\n",
        "print(f\"\\n🏆 FINAL RESULTS - Large Scale Processing:\")\n",
        "print(f\"{'='*60}\")\n",
        "print(f\"   📊 Total prompts: {len(all_prompts):,}\")\n",
        "print(f\"   ⏱️  Total time: {elapsed_time:.1f} seconds ({elapsed_time/60:.1f} minutes)\")\n",
        "print(f\"   📈 Average time per prompt: {elapsed_time/len(all_prompts):.4f} seconds\")\n",
        "print(f\"\\n📋 Response Breakdown:\")\n",
        "print(f\"   ✅ Successful: {successful:,} ({successful/len(all_prompts)*100:.1f}%)\")\n",
        "print(f\"   💾 From cache: {cached:,} ({cached/len(all_prompts)*100:.1f}%)\")\n",
        "print(f\"   🆕 Newly generated: {generated:,} ({generated/len(all_prompts)*100:.1f}%)\")\n",
        "print(f\"   ❌ Failed: {failed:,} ({failed/len(all_prompts)*100:.1f}%)\")\n",
        "\n",
        "# Ultimate performance comparison\n",
        "print(f\"\\n🚀 PERFORMANCE COMPARISON:\")\n",
        "print(f\"{'='*60}\")\n",
        "speedup = naive_estimated_time / elapsed_time\n",
        "print(f\"   📊 Naive sequential approach: ~{naive_estimated_time/3600:.1f} hours\")\n",
        "print(f\"   ⚡ LLM Batch Helper: {elapsed_time/60:.1f} minutes\")\n",
        "print(f\"   🎯 SPEEDUP: {speedup:.0f}x FASTER!\")\n",
        "print(f\"   💰 Time saved: {(naive_estimated_time - elapsed_time)/3600:.1f} hours\")\n",
        "\n",
        "# Caching effectiveness\n",
        "print(f\"\\n💾 CACHING EFFECTIVENESS:\")\n",
        "print(f\"{'='*60}\")\n",
        "cache_hit_rate = cached / len(all_prompts) * 100\n",
        "print(f\"   📊 Cache hit rate: {cache_hit_rate:.1f}%\")\n",
        "print(f\"   ⚡ Only processed {generated:,} new prompts out of {len(all_prompts):,}\")\n",
        "print(f\"   💡 This means you can interrupt and resume without losing work!\")\n"
      ]
    },
    {
      "cell_type": "markdown",
      "metadata": {},
      "source": [
        "## Next Steps\n",
        "\n",
        "Now that you've seen the power of LLM Batch Helper, here are some ways to apply it to your own projects:\n",
        "\n",
        "### 🚀 For Your Own Projects:\n",
        "\n",
        "1. **Start Small**: Always test with 10-50 examples first\n",
        "2. **Find Your Sweet Spot**: Experiment with `max_concurrent_requests` (start with 50-100)\n",
        "3. **Use Caching**: Set up a dedicated cache directory for each project\n",
        "4. **Monitor and Tune**: Watch for rate limits and adjust concurrency accordingly\n",
        "5. **Add Verification**: Use custom verification callbacks for quality control\n",
        "\n",
        "### 📚 Learn More:\n",
        "\n",
        "- Check out the main tutorial notebook for more features\n",
        "- Read the documentation for advanced configuration options\n",
        "- Explore different providers (OpenAI, OpenRouter, Together.ai)\n",
        "- Try custom verification callbacks for your use cases\n",
        "\n",
        "### 💡 Common Use Cases:\n",
        "\n",
        "- **Data Labeling**: Process thousands of examples for ML training\n",
        "- **Content Generation**: Create large amounts of content efficiently  \n",
        "- **Evaluation**: Run LLM-as-a-judge on large datasets\n",
        "- **Research**: Conduct large-scale experiments with different prompts\n",
        "- **Simulation**: Run multi-agent conversations or scenarios\n",
        "\n",
        "Happy batch processing! 🎯\n"
      ]
    }
  ],
  "metadata": {
    "kernelspec": {
      "display_name": "llm-batch-helper-cXcqr_wg-py3.12",
      "language": "python",
      "name": "python3"
    },
    "language_info": {
      "codemirror_mode": {
        "name": "ipython",
        "version": 3
      },
      "file_extension": ".py",
      "mimetype": "text/x-python",
      "name": "python",
      "nbconvert_exporter": "python",
      "pygments_lexer": "ipython3",
      "version": "3.12.3"
    }
  },
  "nbformat": 4,
  "nbformat_minor": 2
}
